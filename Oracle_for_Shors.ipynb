{
 "cells": [
  {
   "cell_type": "markdown",
   "metadata": {},
   "source": [
    "# Mini-Project 2, Problem 2: Creating an Oracle for Shor's"
   ]
  },
  {
   "cell_type": "markdown",
   "metadata": {},
   "source": [
    "## Problem statement:"
   ]
  },
  {
   "cell_type": "code",
   "execution_count": 2,
   "metadata": {},
   "outputs": [
    {
     "name": "stdout",
     "output_type": "stream",
     "text": [
      "Collecting qiskit\n",
      "  Downloading qiskit-2.0.2-cp39-abi3-macosx_11_0_arm64.whl.metadata (12 kB)\n",
      "Collecting pylatexenc\n",
      "  Downloading pylatexenc-2.10.tar.gz (162 kB)\n",
      "  Preparing metadata (setup.py) ... \u001b[?25ldone\n",
      "\u001b[?25hCollecting rustworkx>=0.15.0 (from qiskit)\n",
      "  Downloading rustworkx-0.16.0-cp39-abi3-macosx_11_0_arm64.whl.metadata (10 kB)\n",
      "Requirement already satisfied: numpy<3,>=1.17 in /opt/anaconda3/envs/6.86x/lib/python3.11/site-packages (from qiskit) (2.2.2)\n",
      "Requirement already satisfied: scipy>=1.5 in /opt/anaconda3/envs/6.86x/lib/python3.11/site-packages (from qiskit) (1.15.1)\n",
      "Requirement already satisfied: sympy>=1.3 in /opt/anaconda3/envs/6.86x/lib/python3.11/site-packages (from qiskit) (1.13.3)\n",
      "Collecting dill>=0.3 (from qiskit)\n",
      "  Downloading dill-0.4.0-py3-none-any.whl.metadata (10 kB)\n",
      "Requirement already satisfied: python-dateutil>=2.8.0 in /opt/anaconda3/envs/6.86x/lib/python3.11/site-packages (from qiskit) (2.9.0.post0)\n",
      "Collecting stevedore>=3.0.0 (from qiskit)\n",
      "  Downloading stevedore-5.4.1-py3-none-any.whl.metadata (2.3 kB)\n",
      "Requirement already satisfied: typing-extensions in /opt/anaconda3/envs/6.86x/lib/python3.11/site-packages (from qiskit) (4.12.2)\n",
      "Collecting symengine<0.14,>=0.11 (from qiskit)\n",
      "  Downloading symengine-0.13.0-cp311-cp311-macosx_11_0_arm64.whl.metadata (1.2 kB)\n",
      "Requirement already satisfied: six>=1.5 in /opt/anaconda3/envs/6.86x/lib/python3.11/site-packages (from python-dateutil>=2.8.0->qiskit) (1.16.0)\n",
      "Collecting pbr>=2.0.0 (from stevedore>=3.0.0->qiskit)\n",
      "  Downloading pbr-6.1.1-py2.py3-none-any.whl.metadata (3.4 kB)\n",
      "Requirement already satisfied: mpmath<1.4,>=1.1.0 in /opt/anaconda3/envs/6.86x/lib/python3.11/site-packages (from sympy>=1.3->qiskit) (1.3.0)\n",
      "Requirement already satisfied: setuptools in /opt/anaconda3/envs/6.86x/lib/python3.11/site-packages (from pbr>=2.0.0->stevedore>=3.0.0->qiskit) (72.1.0)\n",
      "Downloading qiskit-2.0.2-cp39-abi3-macosx_11_0_arm64.whl (5.9 MB)\n",
      "\u001b[2K   \u001b[90m━━━━━━━━━━━━━━━━━━━━━━━━━━━━━━━━━━━━━━━━\u001b[0m \u001b[32m5.9/5.9 MB\u001b[0m \u001b[31m15.8 MB/s\u001b[0m eta \u001b[36m0:00:00\u001b[0ma \u001b[36m0:00:01\u001b[0m\n",
      "\u001b[?25hDownloading dill-0.4.0-py3-none-any.whl (119 kB)\n",
      "Downloading rustworkx-0.16.0-cp39-abi3-macosx_11_0_arm64.whl (1.9 MB)\n",
      "\u001b[2K   \u001b[90m━━━━━━━━━━━━━━━━━━━━━━━━━━━━━━━━━━━━━━━━\u001b[0m \u001b[32m1.9/1.9 MB\u001b[0m \u001b[31m29.8 MB/s\u001b[0m eta \u001b[36m0:00:00\u001b[0m\n",
      "\u001b[?25hDownloading stevedore-5.4.1-py3-none-any.whl (49 kB)\n",
      "Downloading symengine-0.13.0-cp311-cp311-macosx_11_0_arm64.whl (22.7 MB)\n",
      "\u001b[2K   \u001b[90m━━━━━━━━━━━━━━━━━━━━━━━━━━━━━━━━━━━━━━━━\u001b[0m \u001b[32m22.7/22.7 MB\u001b[0m \u001b[31m35.1 MB/s\u001b[0m eta \u001b[36m0:00:00\u001b[0m00:01\u001b[0m00:01\u001b[0m\n",
      "\u001b[?25hDownloading pbr-6.1.1-py2.py3-none-any.whl (108 kB)\n",
      "Building wheels for collected packages: pylatexenc\n",
      "  Building wheel for pylatexenc (setup.py) ... \u001b[?25ldone\n",
      "\u001b[?25h  Created wheel for pylatexenc: filename=pylatexenc-2.10-py3-none-any.whl size=136818 sha256=7a1435c6d81a447e4df2a985fc37eacbefe62d077a61ec9aa36f0a1b749cfc8e\n",
      "  Stored in directory: /Users/amandacurtis/Library/Caches/pip/wheels/b1/7a/33/9fdd892f784ed4afda62b685ae3703adf4c91aa0f524c28f03\n",
      "Successfully built pylatexenc\n",
      "Installing collected packages: pylatexenc, symengine, rustworkx, pbr, dill, stevedore, qiskit\n",
      "Successfully installed dill-0.4.0 pbr-6.1.1 pylatexenc-2.10 qiskit-2.0.2 rustworkx-0.16.0 stevedore-5.4.1 symengine-0.13.0\n",
      "Note: you may need to restart the kernel to use updated packages.\n"
     ]
    }
   ],
   "source": [
    "\n",
    "\n",
    "# Checking that we have everything we need for qiskit \n",
    "%pip install qiskit pylatexenc\n",
    "\n"
   ]
  },
  {
   "cell_type": "code",
   "execution_count": 3,
   "metadata": {},
   "outputs": [],
   "source": [
    "# Importing necessary other packages\n",
    "\n",
    "from qiskit.circuit import QuantumCircuit, QuantumRegister, AncillaRegister\n",
    "from qiskit.quantum_info import Statevector, Operator\n",
    "\n",
    "import matplotlib.pyplot as plt\n",
    "\n",
    "import numpy as np\n",
    "\n"
   ]
  },
  {
   "cell_type": "markdown",
   "metadata": {},
   "source": [
    "## Outline of Process \n",
    "(or what to expect with this notebook)"
   ]
  },
  {
   "cell_type": "markdown",
   "metadata": {},
   "source": []
  }
 ],
 "metadata": {
  "kernelspec": {
   "display_name": "6.86x",
   "language": "python",
   "name": "python3"
  },
  "language_info": {
   "codemirror_mode": {
    "name": "ipython",
    "version": 3
   },
   "file_extension": ".py",
   "mimetype": "text/x-python",
   "name": "python",
   "nbconvert_exporter": "python",
   "pygments_lexer": "ipython3",
   "version": "3.11.11"
  }
 },
 "nbformat": 4,
 "nbformat_minor": 2
}
